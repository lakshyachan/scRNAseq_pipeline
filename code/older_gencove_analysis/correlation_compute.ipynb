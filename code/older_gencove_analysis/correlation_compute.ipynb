{
 "cells": [
  {
   "attachments": {},
   "cell_type": "markdown",
   "metadata": {},
   "source": [
    "**# Computing Pearson Correlation for genotype calls (imputed and reference)**"
   ]
  },
  {
   "cell_type": "code",
   "execution_count": 1,
   "metadata": {},
   "outputs": [],
   "source": [
    "import pandas as pd\n",
    "from scipy.stats import pearsonr"
   ]
  },
  {
   "cell_type": "code",
   "execution_count": 2,
   "metadata": {},
   "outputs": [
    {
     "name": "stderr",
     "output_type": "stream",
     "text": [
      "/tmp/ipykernel_1789553/1441383495.py:1: DtypeWarning: Columns (0) have mixed types. Specify dtype option on import or set low_memory=False.\n",
      "  ref_genotypes = pd.read_csv(\"/home/lchanem1/data-abattle4/lakshmi/cuomo_2020/genotypes/iisa_genotypes.csv\", sep=\"\\t\", header=None, names=[\"chromosome\", \"position\", \"GT\"])\n"
     ]
    }
   ],
   "source": [
    "ref_genotypes = pd.read_csv(\"/home/lchanem1/data-abattle4/lakshmi/cuomo_2020/genotypes/iisa_genotypes.csv\", sep=\"\\t\", header=None, names=[\"chromosome\", \"position\", \"GT\"])\n",
    "imputed_dosages = pd.read_csv(\"/home/lchanem1/data-abattle4/lakshmi/cuomo_2020/iisa_3_murp_cat/iisa_murp_dosages.csv\", sep=\"\\t\", header=None, names=[\"chromosome\", \"position\", \"dosage\"])\n",
    "merged = pd.merge(ref_genotypes, imputed_dosages, on=[\"chromosome\", \"position\"])"
   ]
  },
  {
   "attachments": {},
   "cell_type": "markdown",
   "metadata": {},
   "source": [
    "Assuming all are bi-allelic variants, we need to convert reference genotype calls of 0/0, 0/1, 1/1 etc into a comparable numeric value. For this, we quantify it as follows:\n",
    "\n",
    "0/0 -> 0;\n",
    "0/1 and 1/0 -> 1;\n",
    "1/1 -> 2"
   ]
  },
  {
   "cell_type": "code",
   "execution_count": null,
   "metadata": {},
   "outputs": [],
   "source": [
    "dosages = merged[\"GT\"].str.count('1|2')"
   ]
  },
  {
   "cell_type": "code",
   "execution_count": null,
   "metadata": {},
   "outputs": [
    {
     "name": "stdout",
     "output_type": "stream",
     "text": [
      "Pearson correlation:  0.8364424317480652\n",
      "p-value:  0.0\n"
     ]
    }
   ],
   "source": [
    "r, p = pearsonr(dosages, merged[\"dosage\"])\n",
    "print(\"Pearson correlation: \", r)\n",
    "print(\"p-value: \", p)"
   ]
  },
  {
   "attachments": {},
   "cell_type": "markdown",
   "metadata": {},
   "source": [
    "Validation"
   ]
  },
  {
   "cell_type": "code",
   "execution_count": null,
   "metadata": {},
   "outputs": [
    {
     "data": {
      "text/plain": [
       "2"
      ]
     },
     "execution_count": 6,
     "metadata": {},
     "output_type": "execute_result"
    }
   ],
   "source": [
    "dosages[6]"
   ]
  },
  {
   "cell_type": "code",
   "execution_count": null,
   "metadata": {},
   "outputs": [
    {
     "data": {
      "text/html": [
       "<div>\n",
       "<style scoped>\n",
       "    .dataframe tbody tr th:only-of-type {\n",
       "        vertical-align: middle;\n",
       "    }\n",
       "\n",
       "    .dataframe tbody tr th {\n",
       "        vertical-align: top;\n",
       "    }\n",
       "\n",
       "    .dataframe thead th {\n",
       "        text-align: right;\n",
       "    }\n",
       "</style>\n",
       "<table border=\"1\" class=\"dataframe\">\n",
       "  <thead>\n",
       "    <tr style=\"text-align: right;\">\n",
       "      <th></th>\n",
       "      <th>chromosome</th>\n",
       "      <th>position</th>\n",
       "      <th>GT</th>\n",
       "      <th>dosage</th>\n",
       "    </tr>\n",
       "  </thead>\n",
       "  <tbody>\n",
       "    <tr>\n",
       "      <th>0</th>\n",
       "      <td>1</td>\n",
       "      <td>752566</td>\n",
       "      <td>1/1</td>\n",
       "      <td>2.0</td>\n",
       "    </tr>\n",
       "    <tr>\n",
       "      <th>1</th>\n",
       "      <td>1</td>\n",
       "      <td>752721</td>\n",
       "      <td>1/1</td>\n",
       "      <td>2.0</td>\n",
       "    </tr>\n",
       "    <tr>\n",
       "      <th>6</th>\n",
       "      <td>1</td>\n",
       "      <td>861808</td>\n",
       "      <td>1/1</td>\n",
       "      <td>2.0</td>\n",
       "    </tr>\n",
       "    <tr>\n",
       "      <th>37</th>\n",
       "      <td>1</td>\n",
       "      <td>888659</td>\n",
       "      <td>1/1</td>\n",
       "      <td>2.0</td>\n",
       "    </tr>\n",
       "    <tr>\n",
       "      <th>401</th>\n",
       "      <td>1</td>\n",
       "      <td>1551927</td>\n",
       "      <td>1/1</td>\n",
       "      <td>2.0</td>\n",
       "    </tr>\n",
       "  </tbody>\n",
       "</table>\n",
       "</div>"
      ],
      "text/plain": [
       "    chromosome  position   GT  dosage\n",
       "0            1    752566  1/1     2.0\n",
       "1            1    752721  1/1     2.0\n",
       "6            1    861808  1/1     2.0\n",
       "37           1    888659  1/1     2.0\n",
       "401          1   1551927  1/1     2.0"
      ]
     },
     "execution_count": 5,
     "metadata": {},
     "output_type": "execute_result"
    }
   ],
   "source": [
    "merged[merged[\"GT\"] == \"1/1\"].head()"
   ]
  }
 ],
 "metadata": {
  "kernelspec": {
   "display_name": "base",
   "language": "python",
   "name": "python3"
  },
  "language_info": {
   "codemirror_mode": {
    "name": "ipython",
    "version": 3
   },
   "file_extension": ".py",
   "mimetype": "text/x-python",
   "name": "python",
   "nbconvert_exporter": "python",
   "pygments_lexer": "ipython3",
   "version": "3.10.12"
  },
  "orig_nbformat": 4
 },
 "nbformat": 4,
 "nbformat_minor": 2
}
